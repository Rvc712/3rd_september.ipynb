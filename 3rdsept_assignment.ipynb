{
 "cells": [
  {
   "cell_type": "code",
   "execution_count": 1,
   "id": "2a835413-0c57-4d58-a0ef-99b105e1ab17",
   "metadata": {},
   "outputs": [
    {
     "name": "stdout",
     "output_type": "stream",
     "text": [
      "1\n",
      "2\n",
      "3\n",
      "4\n",
      "5\n",
      "6\n",
      "7\n",
      "8\n",
      "9\n",
      "10\n"
     ]
    }
   ],
   "source": [
    "for i in range (1,11):\n",
    "    print (i)\n",
    "    "
   ]
  },
  {
   "cell_type": "code",
   "execution_count": 2,
   "id": "d7680a70-016a-4cd6-acf4-ef13ea02416a",
   "metadata": {},
   "outputs": [
    {
     "name": "stdout",
     "output_type": "stream",
     "text": [
      "The sum of my_list is 15\n"
     ]
    }
   ],
   "source": [
    "#Create a program that calculates the sum of all numbers in a list using a `for` loop.\n",
    "def sum_of_list(l):\n",
    "  total = 0\n",
    "  for val in l:\n",
    "    total = total + val\n",
    "  return total\n",
    "\n",
    "my_list = [1,3,5,2,4]\n",
    "print (\"The sum of my_list is\", sum_of_list(my_list))"
   ]
  },
  {
   "cell_type": "code",
   "execution_count": 7,
   "id": "f90d50f2-78af-4692-a645-81bd07f942dd",
   "metadata": {},
   "outputs": [
    {
     "name": "stdout",
     "output_type": "stream",
     "text": [
      "The original string is:  rutuja\n",
      "The reverse string is ajutur\n"
     ]
    }
   ],
   "source": [
    "def reverse_string(str):  \n",
    "    str1 = \"\"   # Declaring empty string to store the reversed string  \n",
    "    for i in str:  \n",
    "        str1 = i + str1  \n",
    "    return str1    # It will return the reverse string to the caller function  \n",
    "     \n",
    "str = \"rutuja\"    # Given String       \n",
    "print(\"The original string is: \",str)  \n",
    "print(\"The reverse string is\",reverse_string(str)) # Function call  \n"
   ]
  },
  {
   "cell_type": "code",
   "execution_count": 8,
   "id": "47d90a51-c880-4064-ad31-c95f1ad793f2",
   "metadata": {},
   "outputs": [
    {
     "name": "stdout",
     "output_type": "stream",
     "text": [
      "The factorial of 7 is 5040\n"
     ]
    }
   ],
   "source": [
    "num = 7\n",
    "\n",
    "# To take input from the user\n",
    "#num = int(input(\"Enter a number: \"))\n",
    "\n",
    "factorial = 1\n",
    "\n",
    "# check if the number is negative, positive or zero\n",
    "if num < 0:\n",
    "   print(\"Sorry, factorial does not exist for negative numbers\")\n",
    "elif num == 0:\n",
    "   print(\"The factorial of 0 is 1\")\n",
    "else:\n",
    "   for i in range(1,num + 1):\n",
    "       factorial = factorial*i\n",
    "   print(\"The factorial of\",num,\"is\",factorial)"
   ]
  },
  {
   "cell_type": "code",
   "execution_count": 11,
   "id": "782592c0-ee56-408b-adb9-cb372543b97a",
   "metadata": {},
   "outputs": [
    {
     "name": "stdin",
     "output_type": "stream",
     "text": [
      "Enter a number:  7\n"
     ]
    },
    {
     "name": "stdout",
     "output_type": "stream",
     "text": [
      "the multiplication of given number is: 7\n",
      "the multiplication of given number is: 14\n",
      "the multiplication of given number is: 21\n",
      "the multiplication of given number is: 28\n",
      "the multiplication of given number is: 35\n",
      "the multiplication of given number is: 42\n",
      "the multiplication of given number is: 49\n",
      "the multiplication of given number is: 56\n",
      "the multiplication of given number is: 63\n",
      "the multiplication of given number is: 70\n"
     ]
    }
   ],
   "source": [
    "num = int(input(\"Enter a number: \"))\n",
    "for i in range(1,11):\n",
    "    a=num*i\n",
    "    print(\"the multiplication of given number is:\",a)"
   ]
  },
  {
   "cell_type": "code",
   "execution_count": 12,
   "id": "36353b52-f79c-4cb6-b39f-6fee20a75b1c",
   "metadata": {},
   "outputs": [
    {
     "name": "stdout",
     "output_type": "stream",
     "text": [
      "Even numbers available in the list:  4\n",
      "Odd numbers available in the list:  6\n"
     ]
    }
   ],
   "source": [
    "list1 = [21,3,4,6,33,2,3,1,3,76]\n",
    "even_count, odd_count = 0, 0\n",
    "for num in list1:\n",
    "   #even numbers\n",
    "   if num % 2 == 0:\n",
    "      even_count += 1\n",
    "   #odd numbers\n",
    "   else:\n",
    "      odd_count += 1\n",
    "print(\"Even numbers available in the list: \", even_count)\n",
    "print(\"Odd numbers available in the list: \", odd_count)"
   ]
  },
  {
   "cell_type": "code",
   "execution_count": 20,
   "id": "70997e53-e2e2-4c9a-948a-6ac10b15cf89",
   "metadata": {},
   "outputs": [
    {
     "name": "stdout",
     "output_type": "stream",
     "text": [
      "25\n"
     ]
    }
   ],
   "source": [
    "def number(a):\n",
    "    return a*a\n",
    "print(number(5))\n",
    " "
   ]
  },
  {
   "cell_type": "code",
   "execution_count": 21,
   "id": "69c412f2-ca20-4557-bf50-dc0f61d953ee",
   "metadata": {},
   "outputs": [
    {
     "name": "stdout",
     "output_type": "stream",
     "text": [
      "5\n"
     ]
    }
   ],
   "source": [
    "string = 'Hello'\n",
    "\n",
    "count = 0\n",
    "\n",
    "for i in string:\n",
    " \n",
    "    count+=1\n",
    "print(count)\n"
   ]
  },
  {
   "cell_type": "code",
   "execution_count": 22,
   "id": "b7d1917f-f678-4e1a-9b33-65a8ea343523",
   "metadata": {},
   "outputs": [
    {
     "name": "stdout",
     "output_type": "stream",
     "text": [
      "The average is  31.86\n"
     ]
    }
   ],
   "source": [
    "number_list = [45, 34, 10, 36, 12, 6, 80]\n",
    "avg = sum(number_list)/len(number_list)\n",
    "print(\"The average is \", round(avg,2))"
   ]
  },
  {
   "cell_type": "code",
   "execution_count": 32,
   "id": "1a152450-ff3c-4515-99f6-0d2cf94a9c24",
   "metadata": {},
   "outputs": [
    {
     "name": "stdin",
     "output_type": "stream",
     "text": [
      "How many terms?  7\n"
     ]
    },
    {
     "name": "stdout",
     "output_type": "stream",
     "text": [
      "Fibonacci sequence:\n",
      "0\n",
      "1\n",
      "1\n",
      "2\n",
      "3\n",
      "5\n",
      "8\n"
     ]
    }
   ],
   "source": [
    "#Develop a program that prints the first `n` Fibonacci numbers using a `for` loop.\n",
    "# Program to display the Fibonacci sequence up to n-th term\n",
    "\n",
    "nterms = int(input(\"How many terms? \"))\n",
    "\n",
    "# first two terms\n",
    "n1, n2 = 0, 1\n",
    "count = 0\n",
    "\n",
    "# check if the number of terms is valid\n",
    "if nterms <= 0:\n",
    "   print(\"Please enter a positive integer\")\n",
    "# if there is only one term, return n1\n",
    "elif nterms == 1:\n",
    "   print(\"Fibonacci sequence upto\",nterms,\":\")\n",
    "   print(n1)\n",
    "# generate fibonacci sequence\n",
    "else:\n",
    "   print(\"Fibonacci sequence:\")\n",
    "   while count < nterms:\n",
    "       print(n1)\n",
    "       nth = n1 + n2\n",
    "       # update values\n",
    "       n1 = n2\n",
    "       n2 = nth\n",
    "       count += 1\n"
   ]
  },
  {
   "cell_type": "code",
   "execution_count": 1,
   "id": "90c76d37-cde0-4374-aa37-6bc14ece935d",
   "metadata": {},
   "outputs": [
    {
     "name": "stdout",
     "output_type": "stream",
     "text": [
      "The list contains duplicates.\n"
     ]
    }
   ],
   "source": [
    "def has_duplicates(input_list):\n",
    "    seen_elements = set()\n",
    "\n",
    "    for element in input_list:\n",
    "        if element in seen_elements:\n",
    "            return True\n",
    "        seen_elements.add(element)\n",
    "\n",
    "    return False\n",
    "\n",
    "# Example Usage:\n",
    "my_list = [1, 2, 3, 4, 1, 5, 6]\n",
    "result = has_duplicates(my_list)\n",
    "\n",
    "if result:\n",
    "    print(\"The list contains duplicates.\")\n",
    "else:\n",
    "    print(\"The list does not contain duplicates.\")\n"
   ]
  },
  {
   "cell_type": "code",
   "execution_count": 2,
   "id": "c9e56b17-33a2-4001-b551-772af6522c22",
   "metadata": {},
   "outputs": [
    {
     "name": "stdout",
     "output_type": "stream",
     "text": [
      "2\n",
      "3\n",
      "5\n",
      "7\n",
      "11\n",
      "13\n",
      "17\n",
      "19\n"
     ]
    }
   ],
   "source": [
    "def is_prime(n):\n",
    "    if n < 2:\n",
    "        return False\n",
    "    for i in range(2, int(n**0.5) + 1):\n",
    "        if n % i == 0:\n",
    "            return False\n",
    "    return True\n",
    "\n",
    "def print_primes_in_range(start, end):\n",
    "    for num in range(start, end + 1):\n",
    "        if is_prime(num):\n",
    "            print(num)\n",
    "\n",
    "# Example Usage:\n",
    "print_primes_in_range(1, 20)\n"
   ]
  },
  {
   "cell_type": "code",
   "execution_count": 4,
   "id": "9736808b-55e9-444d-bf6e-c1b0c2c4284c",
   "metadata": {},
   "outputs": [
    {
     "name": "stdout",
     "output_type": "stream",
     "text": [
      "There are 3 vowels in the text.\n"
     ]
    }
   ],
   "source": [
    "\n",
    "def count_vowels(text):\n",
    "    vowels = 'aeiouAEIOU'\n",
    "    count = 0\n",
    "    for char in text:\n",
    "        if char in vowels:\n",
    "            count += 1\n",
    "    return count\n",
    "\n",
    "# Example Usage:\n",
    "text = \"Hello World\"\n",
    "num_vowels = count_vowels(text)\n",
    "print(f\"There are {num_vowels} vowels in the text.\")\n"
   ]
  },
  {
   "cell_type": "code",
   "execution_count": 5,
   "id": "e6589ddf-ab32-4eda-8c2c-4fb78223f4ad",
   "metadata": {},
   "outputs": [
    {
     "name": "stdout",
     "output_type": "stream",
     "text": [
      "[1, 3, 4, 5]\n"
     ]
    }
   ],
   "source": [
    "def remove_element(lst, element):\n",
    "    result = []\n",
    "    for item in lst:\n",
    "        if item != element:\n",
    "            result.append(item)\n",
    "    return result\n",
    "\n",
    "# Example Usage:\n",
    "my_list = [1, 2, 3, 2, 4, 2, 5]\n",
    "element_to_remove = 2\n",
    "new_list = remove_element(my_list, element_to_remove)\n",
    "print(new_list)\n"
   ]
  },
  {
   "cell_type": "code",
   "execution_count": 6,
   "id": "11be6886-7000-48eb-93f5-0bd6a73c97d2",
   "metadata": {},
   "outputs": [
    {
     "name": "stdout",
     "output_type": "stream",
     "text": [
      "[0.0, 10.0, 20.0, 30.0, 40.0]\n"
     ]
    }
   ],
   "source": [
    "def fahrenheit_to_celsius(f):\n",
    "    return (f - 32) * 5/9\n",
    "\n",
    "fahrenheit_temperatures = [32, 50, 68, 86, 104]\n",
    "celsius_temperatures = []\n",
    "\n",
    "for temp in fahrenheit_temperatures:\n",
    "    celsius_temperatures.append(fahrenheit_to_celsius(temp))\n",
    "\n",
    "print(celsius_temperatures)\n"
   ]
  },
  {
   "cell_type": "code",
   "execution_count": 7,
   "id": "68ad90c2-d7e3-4e4e-b883-6f2abb1a8df0",
   "metadata": {},
   "outputs": [
    {
     "name": "stdout",
     "output_type": "stream",
     "text": [
      "[4, 5]\n"
     ]
    }
   ],
   "source": [
    "list1 = [1, 2, 3, 4, 5]\n",
    "list2 = [4, 5, 6, 7, 8]\n",
    "\n",
    "common_elements = []\n",
    "\n",
    "for element in list1:\n",
    "    if element in list2:\n",
    "        common_elements.append(element)\n",
    "\n",
    "print(common_elements)\n"
   ]
  },
  {
   "cell_type": "code",
   "execution_count": 8,
   "id": "46d13d30-5209-47f5-9b84-6f2d8bbb92eb",
   "metadata": {},
   "outputs": [
    {
     "name": "stdout",
     "output_type": "stream",
     "text": [
      "*\n",
      "**\n",
      "***\n",
      "****\n",
      "*****\n"
     ]
    }
   ],
   "source": [
    "for i in range(1, 6):\n",
    "    print('*' * i)\n"
   ]
  },
  {
   "cell_type": "code",
   "execution_count": 9,
   "id": "8edb16ed-90d7-4459-9fe6-9585fd9c5eaf",
   "metadata": {},
   "outputs": [
    {
     "name": "stdout",
     "output_type": "stream",
     "text": [
      "The GCD of 24 and 36 is: 12\n"
     ]
    }
   ],
   "source": [
    "def gcd(a, b):\n",
    "    while b != 0:\n",
    "        a, b = b, a % b\n",
    "    return a\n",
    "\n",
    "num1 = 24\n",
    "num2 = 36\n",
    "\n",
    "result = gcd(num1, num2)\n",
    "print(f\"The GCD of {num1} and {num2} is: {result}\")\n"
   ]
  },
  {
   "cell_type": "code",
   "execution_count": 10,
   "id": "5dadf7c0-99c8-40d3-b86c-024969b7c35e",
   "metadata": {},
   "outputs": [
    {
     "name": "stdout",
     "output_type": "stream",
     "text": [
      "[6, 9, 13, 17, 3]\n"
     ]
    }
   ],
   "source": [
    "numbers = [123, 45, 67, 89, 12]\n",
    "digit_sums = [sum(map(int, str(num))) for num in numbers]\n",
    "print(digit_sums)\n"
   ]
  },
  {
   "cell_type": "code",
   "execution_count": 11,
   "id": "e123ee91-9e8b-4026-b76d-2de588ae9e2f",
   "metadata": {},
   "outputs": [
    {
     "name": "stdout",
     "output_type": "stream",
     "text": [
      "The prime factors of 36 are: [2, 2, 3, 3]\n"
     ]
    }
   ],
   "source": [
    "def prime_factors(n):\n",
    "    factors = []\n",
    "    for i in range(2, n + 1):\n",
    "        while n % i == 0:\n",
    "            factors.append(i)\n",
    "            n = n // i\n",
    "    return factors\n",
    "\n",
    "number = 36\n",
    "factors = prime_factors(number)\n",
    "print(f\"The prime factors of {number} are: {factors}\")\n"
   ]
  },
  {
   "cell_type": "code",
   "execution_count": 12,
   "id": "aad95f47-3d83-4cde-bc10-f0d4ccd74510",
   "metadata": {},
   "outputs": [
    {
     "name": "stdout",
     "output_type": "stream",
     "text": [
      "[1, 2, 3, 4, 5]\n"
     ]
    }
   ],
   "source": [
    "original_list = [1, 2, 2, 3, 4, 4, 5, 5]\n",
    "unique_elements = list(set(original_list))\n",
    "print(unique_elements)\n"
   ]
  },
  {
   "cell_type": "code",
   "execution_count": 13,
   "id": "9c1d99d5-a6c3-4cce-ab3e-d9c32f5f31fc",
   "metadata": {},
   "outputs": [
    {
     "name": "stdout",
     "output_type": "stream",
     "text": [
      "[1, 2, 3, 4, 5, 6, 7, 8, 9, 11, 22, 33, 44, 55, 66, 77, 88, 99, 101, 111, 121, 131, 141, 151, 161, 171, 181, 191, 202, 212, 222, 232, 242, 252, 262, 272, 282, 292, 303, 313, 323, 333, 343, 353, 363, 373, 383, 393, 404, 414, 424, 434, 444, 454, 464, 474, 484, 494, 505, 515, 525, 535, 545, 555, 565, 575, 585, 595, 606, 616, 626, 636, 646, 656, 666, 676, 686, 696, 707, 717, 727, 737, 747, 757, 767, 777, 787, 797, 808, 818, 828, 838, 848, 858, 868, 878, 888, 898, 909, 919, 929, 939, 949, 959, 969, 979, 989, 999]\n"
     ]
    }
   ],
   "source": [
    "limit = 1000\n",
    "palindromic_numbers = [num for num in range(1, limit + 1) if str(num) == str(num)[::-1]]\n",
    "print(palindromic_numbers)\n"
   ]
  },
  {
   "cell_type": "code",
   "execution_count": 14,
   "id": "39ce2ac7-5cf4-42a9-8de2-19a959f02b36",
   "metadata": {},
   "outputs": [
    {
     "name": "stdout",
     "output_type": "stream",
     "text": [
      "[1, 2, 3, 4, 5, 6, 7, 8]\n"
     ]
    }
   ],
   "source": [
    "nested_list = [[1, 2, 3], [4, 5], [6, 7, 8]]\n",
    "flattened_list = [item for sublist in nested_list for item in sublist]\n",
    "print(flattened_list)\n"
   ]
  },
  {
   "cell_type": "code",
   "execution_count": 15,
   "id": "cc69ec9f-8616-4e1d-8de4-a47854a26d3f",
   "metadata": {},
   "outputs": [
    {
     "name": "stdout",
     "output_type": "stream",
     "text": [
      "Sum of even numbers: 30\n",
      "Sum of odd numbers: 25\n"
     ]
    }
   ],
   "source": [
    "numbers = [1, 2, 3, 4, 5, 6, 7, 8, 9, 10]\n",
    "sum_even = sum([num for num in numbers if num % 2 == 0])\n",
    "sum_odd = sum([num for num in numbers if num % 2 != 0])\n",
    "print(f\"Sum of even numbers: {sum_even}\")\n",
    "print(f\"Sum of odd numbers: {sum_odd}\")\n"
   ]
  },
  {
   "cell_type": "code",
   "execution_count": 16,
   "id": "428baaa5-bc83-41c2-a859-f0b0ab16c1fe",
   "metadata": {},
   "outputs": [
    {
     "name": "stdout",
     "output_type": "stream",
     "text": [
      "[1, 9, 25, 49, 81]\n"
     ]
    }
   ],
   "source": [
    "squares_of_odd = [num ** 2 for num in range(1, 11) if num % 2 != 0]\n",
    "print(squares_of_odd)\n"
   ]
  },
  {
   "cell_type": "code",
   "execution_count": 17,
   "id": "31a9c4a7-852f-43fa-bc6c-06c0aaf15236",
   "metadata": {},
   "outputs": [
    {
     "name": "stdout",
     "output_type": "stream",
     "text": [
      "{'a': 1, 'b': 2, 'c': 3}\n"
     ]
    }
   ],
   "source": [
    "keys = ['a', 'b', 'c']\n",
    "values = [1, 2, 3]\n",
    "combined_dict = {key: value for key, value in zip(keys, values)}\n",
    "print(combined_dict)\n"
   ]
  },
  {
   "cell_type": "code",
   "execution_count": 18,
   "id": "ccb6ec9e-dfb7-4c9d-9b1e-48d7d69cbfe6",
   "metadata": {},
   "outputs": [
    {
     "name": "stdout",
     "output_type": "stream",
     "text": [
      "['e', 'o', 'o']\n"
     ]
    }
   ],
   "source": [
    "text = \"Hello, World!\"\n",
    "vowels = [char for char in text if char.lower() in 'aeiou']\n",
    "print(vowels)\n"
   ]
  },
  {
   "cell_type": "code",
   "execution_count": null,
   "id": "141cb0a5-c315-4e63-8e24-2cd32c92e216",
   "metadata": {},
   "outputs": [],
   "source": []
  }
 ],
 "metadata": {
  "kernelspec": {
   "display_name": "Python 3 (ipykernel)",
   "language": "python",
   "name": "python3"
  },
  "language_info": {
   "codemirror_mode": {
    "name": "ipython",
    "version": 3
   },
   "file_extension": ".py",
   "mimetype": "text/x-python",
   "name": "python",
   "nbconvert_exporter": "python",
   "pygments_lexer": "ipython3",
   "version": "3.10.8"
  }
 },
 "nbformat": 4,
 "nbformat_minor": 5
}
