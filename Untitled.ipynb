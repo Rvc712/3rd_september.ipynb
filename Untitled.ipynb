{
 "cells": [
  {
   "cell_type": "code",
   "execution_count": 4,
   "id": "e930b514-df01-4886-9f0d-b7003678a879",
   "metadata": {},
   "outputs": [],
   "source": [
    "def check_positive_negative(num):\n",
    "    if num > 0:\n",
    "        return \"Positive\"\n",
    "    elif num < 0:\n",
    "        return \"Negative\"\n",
    "    else:\n",
    "        return \"Zero\"\n"
   ]
  },
  {
   "cell_type": "code",
   "execution_count": 5,
   "id": "a3dab783-ad8e-4c67-8fb4-d57f1fccf9f5",
   "metadata": {},
   "outputs": [
    {
     "name": "stdout",
     "output_type": "stream",
     "text": [
      "5 is positive\n",
      "-2 is negative\n",
      "0 is zero\n"
     ]
    }
   ],
   "source": [
    "def check_positive_negative(num):\n",
    "    if num > 0:\n",
    "        print(f\"{num} is positive\")\n",
    "    elif num < 0:\n",
    "        print(f\"{num} is negative\")\n",
    "    else:\n",
    "        print(f\"{num} is zero\")\n",
    "\n",
    "check_positive_negative(5)\n",
    "check_positive_negative(-2)\n",
    "check_positive_negative(0)\n"
   ]
  },
  {
   "cell_type": "code",
   "execution_count": 6,
   "id": "2b095237-2b88-4917-a718-72ebc31ff426",
   "metadata": {},
   "outputs": [
    {
     "name": "stdout",
     "output_type": "stream",
     "text": [
      "You are eligible to vote\n",
      "You are not eligible to vote\n"
     ]
    }
   ],
   "source": [
    "def check_voter_eligibility(age):\n",
    "    if age >= 18:\n",
    "        print(\"You are eligible to vote\")\n",
    "    else:\n",
    "        print(\"You are not eligible to vote\")\n",
    "\n",
    "check_voter_eligibility(20)\n",
    "check_voter_eligibility(16)\n"
   ]
  },
  {
   "cell_type": "code",
   "execution_count": 7,
   "id": "2bcf59b6-9db0-4fe9-9b70-3a36cce904c5",
   "metadata": {},
   "outputs": [
    {
     "name": "stdout",
     "output_type": "stream",
     "text": [
      "The maximum number is: 20\n"
     ]
    }
   ],
   "source": [
    "def find_maximum(num1, num2):\n",
    "    if num1 > num2:\n",
    "        return num1\n",
    "    else:\n",
    "        return num2\n",
    "\n",
    "result = find_maximum(10, 20)\n",
    "print(f\"The maximum number is: {result}\")\n"
   ]
  },
  {
   "cell_type": "code",
   "execution_count": 8,
   "id": "b915c380-0bd6-49e9-8b2b-6084264a8b06",
   "metadata": {},
   "outputs": [
    {
     "name": "stdout",
     "output_type": "stream",
     "text": [
      "2020 is a leap year\n",
      "2021 is not a leap year\n"
     ]
    }
   ],
   "source": [
    "def check_leap_year(year):\n",
    "    if (year % 4 == 0 and year % 100 != 0) or (year % 400 == 0):\n",
    "        print(f\"{year} is a leap year\")\n",
    "    else:\n",
    "        print(f\"{year} is not a leap year\")\n",
    "\n",
    "check_leap_year(2020)\n",
    "check_leap_year(2021)\n"
   ]
  },
  {
   "cell_type": "code",
   "execution_count": 9,
   "id": "8ccc7b9f-ae3d-451f-a07b-ef5f86c482ac",
   "metadata": {},
   "outputs": [
    {
     "name": "stdout",
     "output_type": "stream",
     "text": [
      "a is a vowel\n",
      "b is a consonant\n"
     ]
    }
   ],
   "source": [
    "def check_vowel_consonant(char):\n",
    "    vowels = ['a', 'e', 'i', 'o', 'u']\n",
    "    if char.lower() in vowels:\n",
    "        print(f\"{char} is a vowel\")\n",
    "    else:\n",
    "        print(f\"{char} is a consonant\")\n",
    "\n",
    "check_vowel_consonant('a')\n",
    "check_vowel_consonant('b')\n"
   ]
  },
  {
   "cell_type": "code",
   "execution_count": 10,
   "id": "4dabfbdf-dca2-473f-aec3-10df944dcb76",
   "metadata": {},
   "outputs": [
    {
     "name": "stdout",
     "output_type": "stream",
     "text": [
      "4 is even\n",
      "7 is odd\n"
     ]
    }
   ],
   "source": [
    "def check_even_odd(num):\n",
    "    if num % 2 == 0:\n",
    "        print(f\"{num} is even\")\n",
    "    else:\n",
    "        print(f\"{num} is odd\")\n",
    "\n",
    "check_even_odd(4)\n",
    "check_even_odd(7)\n"
   ]
  },
  {
   "cell_type": "code",
   "execution_count": 11,
   "id": "8c71861b-5f3d-44cd-924e-a813790e926b",
   "metadata": {},
   "outputs": [
    {
     "name": "stdout",
     "output_type": "stream",
     "text": [
      "The absolute value is: 5\n"
     ]
    }
   ],
   "source": [
    "def absolute_value(num):\n",
    "    if num < 0:\n",
    "        return -num\n",
    "    else:\n",
    "        return num\n",
    "\n",
    "result = absolute_value(-5)\n",
    "print(f\"The absolute value is: {result}\")\n"
   ]
  },
  {
   "cell_type": "code",
   "execution_count": 12,
   "id": "73ebf5c6-6156-44f7-9421-d37b3fb54c10",
   "metadata": {},
   "outputs": [
    {
     "name": "stdout",
     "output_type": "stream",
     "text": [
      "The largest number is: 20\n"
     ]
    }
   ],
   "source": [
    "def find_largest(num1, num2, num3):\n",
    "    max_num = num1\n",
    "    if num2 > max_num:\n",
    "        max_num = num2\n",
    "    if num3 > max_num:\n",
    "        max_num = num3\n",
    "    return max_num\n",
    "\n",
    "result = find_largest(10, 20, 15)\n",
    "print(f\"The largest number is: {result}\")\n"
   ]
  },
  {
   "cell_type": "code",
   "execution_count": 15,
   "id": "37b04bf0-10a5-4eb9-9e91-47946c4d0d8c",
   "metadata": {},
   "outputs": [
    {
     "name": "stdout",
     "output_type": "stream",
     "text": [
      "The grade for a score of 85 is B\n"
     ]
    }
   ],
   "source": [
    "def calculate_grade(score):\n",
    "    if score >= 90:\n",
    "        return \"A\"\n",
    "    elif score >= 80:\n",
    "        return \"B\"\n",
    "    elif score >= 70:\n",
    "        return \"C\"\n",
    "    elif score >= 60:\n",
    "        return \"D\"\n",
    "    else:\n",
    "        return \"F\"\n",
    "\n",
    "# Example usage:\n",
    "score = 85\n",
    "grade = calculate_grade(score)\n",
    "print(f\"The grade for a score of {score} is {grade}\")\n",
    "\n"
   ]
  },
  {
   "cell_type": "code",
   "execution_count": 16,
   "id": "8ba1735f-9f40-48b2-a515-7e3b70148502",
   "metadata": {},
   "outputs": [
    {
     "name": "stdin",
     "output_type": "stream",
     "text": [
      "Enter the student's score:  55\n"
     ]
    },
    {
     "name": "stdout",
     "output_type": "stream",
     "text": [
      "Grade: F\n"
     ]
    }
   ],
   "source": [
    "score = float(input(\"Enter the student's score: \"))\n",
    "if score >= 90:\n",
    "    grade = \"A\"\n",
    "elif score >= 80:\n",
    "    grade = \"B\"\n",
    "elif score >= 70:\n",
    "    grade = \"C\"\n",
    "elif score >= 60:\n",
    "    grade = \"D\"\n",
    "else:\n",
    "    grade = \"F\"\n",
    "print(\"Grade:\", grade)\n"
   ]
  },
  {
   "cell_type": "code",
   "execution_count": 17,
   "id": "a90c04a2-3fe1-445a-8062-818ece85396a",
   "metadata": {},
   "outputs": [
    {
     "name": "stdin",
     "output_type": "stream",
     "text": [
      "Enter the first number:  2\n",
      "Enter the second number:  26\n",
      "Enter the third number:  54\n"
     ]
    },
    {
     "name": "stdout",
     "output_type": "stream",
     "text": [
      "The largest number is: 54.0\n"
     ]
    }
   ],
   "source": [
    "num1 = float(input(\"Enter the first number: \"))\n",
    "num2 = float(input(\"Enter the second number: \"))\n",
    "num3 = float(input(\"Enter the third number: \"))\n",
    "\n",
    "if num1 >= num2:\n",
    "    if num1 >= num3:\n",
    "        largest = num1\n",
    "    else:\n",
    "        largest = num3\n",
    "else:\n",
    "    if num2 >= num3:\n",
    "        largest = num2\n",
    "    else:\n",
    "        largest = num3\n",
    "\n",
    "print(\"The largest number is:\", largest)\n"
   ]
  },
  {
   "cell_type": "code",
   "execution_count": 18,
   "id": "9f6c04f4-ac4a-48bc-b892-487fb8a2b4d7",
   "metadata": {},
   "outputs": [
    {
     "name": "stdin",
     "output_type": "stream",
     "text": [
      "Enter the length of the first side:  68\n",
      "Enter the length of the second side:  768\n",
      "Enter the length of the third side:  2435\n"
     ]
    },
    {
     "name": "stdout",
     "output_type": "stream",
     "text": [
      "The triangle is: Scalene\n"
     ]
    }
   ],
   "source": [
    "side1 = float(input(\"Enter the length of the first side: \"))\n",
    "side2 = float(input(\"Enter the length of the second side: \"))\n",
    "side3 = float(input(\"Enter the length of the third side: \"))\n",
    "\n",
    "if side1 == side2 == side3:\n",
    "    triangle_type = \"Equilateral\"\n",
    "elif side1 == side2 or side1 == side3 or side2 == side3:\n",
    "    triangle_type = \"Isosceles\"\n",
    "else:\n",
    "    triangle_type = \"Scalene\"\n",
    "\n",
    "print(\"The triangle is:\", triangle_type)\n"
   ]
  },
  {
   "cell_type": "code",
   "execution_count": 19,
   "id": "755dfd73-364e-4d7a-9859-883b7051fdf6",
   "metadata": {},
   "outputs": [
    {
     "name": "stdin",
     "output_type": "stream",
     "text": [
      "Enter a year:  465\n"
     ]
    },
    {
     "name": "stdout",
     "output_type": "stream",
     "text": [
      "Year is: Not a leap year\n",
      "Century year: Not a century year\n"
     ]
    }
   ],
   "source": [
    "year = int(input(\"Enter a year: \"))\n",
    "\n",
    "if (year % 4 == 0 and year % 100 != 0) or (year % 400 == 0):\n",
    "    leap_year = \"Leap year\"\n",
    "else:\n",
    "    leap_year = \"Not a leap year\"\n",
    "\n",
    "if year % 100 == 0:\n",
    "    century_year = \"Century year\"\n",
    "else:\n",
    "    century_year = \"Not a century year\"\n",
    "\n",
    "print(\"Year is:\", leap_year)\n",
    "print(\"Century year:\", century_year)\n"
   ]
  },
  {
   "cell_type": "code",
   "execution_count": 20,
   "id": "1689732d-8573-48f7-a59b-068936c8e556",
   "metadata": {},
   "outputs": [
    {
     "name": "stdin",
     "output_type": "stream",
     "text": [
      "Enter a number:  354657\n"
     ]
    },
    {
     "name": "stdout",
     "output_type": "stream",
     "text": [
      "The number is: Positive\n"
     ]
    }
   ],
   "source": [
    "number = float(input(\"Enter a number: \"))\n",
    "\n",
    "if number > 0:\n",
    "    result = \"Positive\"\n",
    "elif number < 0:\n",
    "    result = \"Negative\"\n",
    "else:\n",
    "    result = \"Zero\"\n",
    "\n",
    "print(\"The number is:\", result)\n"
   ]
  },
  {
   "cell_type": "code",
   "execution_count": 21,
   "id": "9875f64c-356f-4273-b75a-3e604aa7a5d6",
   "metadata": {},
   "outputs": [
    {
     "name": "stdin",
     "output_type": "stream",
     "text": [
      "Enter age:  545\n"
     ]
    },
    {
     "name": "stdout",
     "output_type": "stream",
     "text": [
      "Person is a: Not a teenager\n"
     ]
    }
   ],
   "source": [
    "age = int(input(\"Enter age: \"))\n",
    "\n",
    "if 13 <= age <= 19:\n",
    "    result = \"Teenager\"\n",
    "else:\n",
    "    result = \"Not a teenager\"\n",
    "\n",
    "print(\"Person is a:\", result)\n"
   ]
  },
  {
   "cell_type": "code",
   "execution_count": 22,
   "id": "c831c671-9f88-4cb6-a9c6-d99b4490d637",
   "metadata": {},
   "outputs": [
    {
     "name": "stdin",
     "output_type": "stream",
     "text": [
      "Enter the angle in degrees:  3546576\n"
     ]
    },
    {
     "name": "stdout",
     "output_type": "stream",
     "text": [
      "The angle is: Obtuse angle\n"
     ]
    }
   ],
   "source": [
    "angle = float(input(\"Enter the angle in degrees: \"))\n",
    "\n",
    "if angle < 90:\n",
    "    angle_type = \"Acute angle\"\n",
    "elif angle == 90:\n",
    "    angle_type = \"Right angle\"\n",
    "else:\n",
    "    angle_type = \"Obtuse angle\"\n",
    "\n",
    "print(\"The angle is:\", angle_type)\n"
   ]
  },
  {
   "cell_type": "code",
   "execution_count": 23,
   "id": "d05538f8-7f56-4e15-8ac1-b0959c5a7711",
   "metadata": {},
   "outputs": [
    {
     "name": "stdin",
     "output_type": "stream",
     "text": [
      "Enter coefficient a:  54657\n",
      "Enter coefficient b:  67687\n",
      "Enter coefficient c:  546578\n"
     ]
    },
    {
     "name": "stdout",
     "output_type": "stream",
     "text": [
      "Roots of the quadratic equation: Complex roots: -0.6191979069469601 + 3.101086957725944i and -0.6191979069469601 - 3.101086957725944i\n"
     ]
    }
   ],
   "source": [
    "import math\n",
    "\n",
    "a = float(input(\"Enter coefficient a: \"))\n",
    "b = float(input(\"Enter coefficient b: \"))\n",
    "c = float(input(\"Enter coefficient c: \"))\n",
    "\n",
    "discriminant = b ** 2 - 4 * a * c\n",
    "\n",
    "if discriminant > 0:\n",
    "    root1 = (-b + math.sqrt(discriminant)) / (2 * a)\n",
    "    root2 = (-b - math.sqrt(discriminant)) / (2 * a)\n",
    "    result = f\"Two real roots: {root1} and {root2}\"\n",
    "elif discriminant == 0:\n",
    "    root1 = root2 = -b / (2 * a)\n",
    "    result = f\"One real root: {root1}\"\n",
    "else:\n",
    "    real_part = -b / (2 * a)\n",
    "    imaginary_part = math.sqrt(abs(discriminant)) / (2 * a)\n",
    "    result = f\"Complex roots: {real_part} + {imaginary_part}i and {real_part} - {imaginary_part}i\"\n",
    "\n",
    "print(\"Roots of the quadratic equation:\", result)\n"
   ]
  },
  {
   "cell_type": "code",
   "execution_count": 24,
   "id": "4d92b5e9-da8e-4250-898a-053d05478389",
   "metadata": {},
   "outputs": [
    {
     "name": "stdin",
     "output_type": "stream",
     "text": [
      "Enter a number (1 for Monday, 2 for Tuesday, etc.):  687\n"
     ]
    },
    {
     "name": "stdout",
     "output_type": "stream",
     "text": [
      "Day of the week: Invalid day number\n"
     ]
    }
   ],
   "source": [
    "day_number = int(input(\"Enter a number (1 for Monday, 2 for Tuesday, etc.): \"))\n",
    "\n",
    "if day_number == 1:\n",
    "    day = \"Monday\"\n",
    "elif day_number == 2:\n",
    "    day = \"Tuesday\"\n",
    "elif day_number == 3:\n",
    "    day = \"Wednesday\"\n",
    "elif day_number == 4:\n",
    "    day = \"Thursday\"\n",
    "elif day_number == 5:\n",
    "    day = \"Friday\"\n",
    "elif day_number == 6:\n",
    "    day = \"Saturday\"\n",
    "elif day_number == 7:\n",
    "    day = \"Sunday\"\n",
    "else:\n",
    "    day = \"Invalid day number\"\n",
    "\n",
    "print(\"Day of the week:\", day)\n"
   ]
  },
  {
   "cell_type": "code",
   "execution_count": 25,
   "id": "b9547609-049c-4156-acbd-658ac1aa37c7",
   "metadata": {},
   "outputs": [
    {
     "name": "stdin",
     "output_type": "stream",
     "text": [
      "Enter a year:  7\n"
     ]
    },
    {
     "name": "stdout",
     "output_type": "stream",
     "text": [
      "Year is: Not a leap year\n",
      "Divisible by 400: Not divisible by 400\n"
     ]
    }
   ],
   "source": [
    "year = int(input(\"Enter a year: \"))\n",
    "\n",
    "if (year % 4 == 0 and year % 100 != 0) or (year % 400 == 0):\n",
    "    leap_year = \"Leap year\"\n",
    "else:\n",
    "    leap_year = \"Not a leap year\"\n",
    "\n",
    "if year % 400 == 0:\n",
    "    divisible_by_400 = \"Divisible by 400\"\n",
    "else:\n",
    "    divisible_by_400 = \"Not divisible by 400\"\n",
    "\n",
    "print(\"Year is:\", leap_year)\n",
    "print(\"Divisible by 400:\", divisible_by_400)\n"
   ]
  },
  {
   "cell_type": "code",
   "execution_count": 26,
   "id": "249501a9-07e8-418a-92c7-f39ea17c3f13",
   "metadata": {},
   "outputs": [
    {
     "name": "stdin",
     "output_type": "stream",
     "text": [
      "Enter a number:  47\n"
     ]
    },
    {
     "name": "stdout",
     "output_type": "stream",
     "text": [
      "The number is: Prime number\n"
     ]
    }
   ],
   "source": [
    "number = int(input(\"Enter a number: \"))\n",
    "\n",
    "if number <= 1:\n",
    "    prime = \"Not a prime number\"\n",
    "else:\n",
    "    prime = \"Prime number\"\n",
    "    for i in range(2, int(number ** 0.5) + 1):\n",
    "        if number % i == 0:\n",
    "            prime = \"Not a prime number\"\n",
    "            break\n",
    "\n",
    "print(\"The number is:\", prime)\n"
   ]
  },
  {
   "cell_type": "code",
   "execution_count": 1,
   "id": "7b73a2c5-3a0a-4631-a973-31abcb01ef46",
   "metadata": {},
   "outputs": [
    {
     "name": "stdin",
     "output_type": "stream",
     "text": [
      "Enter the student's score:  565\n"
     ]
    },
    {
     "name": "stdout",
     "output_type": "stream",
     "text": [
      "Grade: F\n"
     ]
    }
   ],
   "source": [
    "score = float(input(\"Enter the student's score: \"))\n",
    "\n",
    "if 90 <= score <= 100:\n",
    "    grade = \"A+\"\n",
    "elif 80 <= score < 90:\n",
    "    grade = \"A\"\n",
    "elif 70 <= score < 80:\n",
    "    grade = \"B\"\n",
    "elif 60 <= score < 70:\n",
    "    grade = \"C\"\n",
    "elif 50 <= score < 60:\n",
    "    grade = \"D\"\n",
    "else:\n",
    "    grade = \"F\"\n",
    "\n",
    "print(\"Grade:\", grade)\n"
   ]
  },
  {
   "cell_type": "code",
   "execution_count": 2,
   "id": "7c05d801-a3cf-4db2-a2cd-22847560decf",
   "metadata": {},
   "outputs": [
    {
     "name": "stdin",
     "output_type": "stream",
     "text": [
      "Enter the first angle:  66\n",
      "Enter the second angle:  77\n",
      "Enter the third angle:  99\n"
     ]
    },
    {
     "name": "stdout",
     "output_type": "stream",
     "text": [
      "The triangle is: Scalene\n"
     ]
    }
   ],
   "source": [
    "angle1 = float(input(\"Enter the first angle: \"))\n",
    "angle2 = float(input(\"Enter the second angle: \"))\n",
    "angle3 = float(input(\"Enter the third angle: \"))\n",
    "\n",
    "if angle1 == angle2 == angle3 == 60:\n",
    "    triangle_type = \"Equilateral\"\n",
    "elif angle1 + angle2 + angle3 == 180 and angle1 == angle2 or angle1 == angle3 or angle2 == angle3:\n",
    "    triangle_type = \"Isosceles\"\n",
    "else:\n",
    "    triangle_type = \"Scalene\"\n",
    "\n",
    "print(\"The triangle is:\", triangle_type)\n"
   ]
  },
  {
   "cell_type": "code",
   "execution_count": 6,
   "id": "73f9cc9e-02f1-4142-b9d7-77396cfcf2d1",
   "metadata": {},
   "outputs": [
    {
     "name": "stdin",
     "output_type": "stream",
     "text": [
      "Enter weight in kg:  80\n",
      "Enter height in meters:  1.64\n"
     ]
    },
    {
     "name": "stdout",
     "output_type": "stream",
     "text": [
      "BMI: 29.74\n",
      "Category: Overweight\n"
     ]
    }
   ],
   "source": [
    "weight = float(input(\"Enter weight in kg: \"))\n",
    "height = float(input(\"Enter height in meters: \"))\n",
    "\n",
    "bmi = weight / (height ** 2)\n",
    "\n",
    "if bmi < 18.5:\n",
    "    category = \"Underweight\"\n",
    "elif 18.5 <= bmi < 24.9:\n",
    "    category = \"Normal\"\n",
    "elif 25 <= bmi < 29.9:\n",
    "    category = \"Overweight\"\n",
    "else:\n",
    "    category = \"Obese\"\n",
    "\n",
    "print(f\"BMI: {bmi:.2f}\")\n",
    "print(f\"Category: {category}\")\n"
   ]
  },
  {
   "cell_type": "code",
   "execution_count": 7,
   "id": "25519e0d-57a5-474f-ab61-f0bdd18db046",
   "metadata": {},
   "outputs": [
    {
     "name": "stdin",
     "output_type": "stream",
     "text": [
      "Enter a number:  4\n"
     ]
    },
    {
     "name": "stdout",
     "output_type": "stream",
     "text": [
      "The number is: Positive\n"
     ]
    }
   ],
   "source": [
    "number = float(input(\"Enter a number: \"))\n",
    "\n",
    "if number > 0:\n",
    "    result = \"Positive\"\n",
    "elif number < 0:\n",
    "    result = \"Negative\"\n",
    "else:\n",
    "    result = \"Zero\"\n",
    "\n",
    "print(\"The number is:\", result)\n"
   ]
  },
  {
   "cell_type": "code",
   "execution_count": 8,
   "id": "bddf41be-3b1e-44ad-add3-c502bed9d4f9",
   "metadata": {},
   "outputs": [
    {
     "name": "stdin",
     "output_type": "stream",
     "text": [
      "Enter a character:  4h\n"
     ]
    },
    {
     "name": "stdout",
     "output_type": "stream",
     "text": [
      "The character is: Lowercase\n"
     ]
    }
   ],
   "source": [
    "character = input(\"Enter a character: \")\n",
    "\n",
    "if character.isupper():\n",
    "    char_type = \"Uppercase\"\n",
    "elif character.islower():\n",
    "    char_type = \"Lowercase\"\n",
    "else:\n",
    "    char_type = \"Special character\"\n",
    "\n",
    "print(f\"The character is: {char_type}\")\n"
   ]
  },
  {
   "cell_type": "code",
   "execution_count": 9,
   "id": "2140b525-4138-4aa2-a44c-d9e41fb5384d",
   "metadata": {},
   "outputs": [
    {
     "name": "stdin",
     "output_type": "stream",
     "text": [
      "Enter the purchase amount:  7\n"
     ]
    },
    {
     "name": "stdout",
     "output_type": "stream",
     "text": [
      "Discounted price: 7.00\n"
     ]
    }
   ],
   "source": [
    "purchase_amount = float(input(\"Enter the purchase amount: \"))\n",
    "\n",
    "if purchase_amount >= 1000:\n",
    "    discount = 0.1\n",
    "elif purchase_amount >= 500:\n",
    "    discount = 0.05\n",
    "else:\n",
    "    discount = 0\n",
    "\n",
    "discounted_price = purchase_amount - (purchase_amount * discount)\n",
    "\n",
    "print(f\"Discounted price: {discounted_price:.2f}\")\n"
   ]
  },
  {
   "cell_type": "code",
   "execution_count": 10,
   "id": "81c9fd20-4852-484a-b2e8-4dca56a3bb97",
   "metadata": {},
   "outputs": [
    {
     "name": "stdin",
     "output_type": "stream",
     "text": [
      "Enter the number of units consumed:  78\n"
     ]
    },
    {
     "name": "stdout",
     "output_type": "stream",
     "text": [
      "Electricity bill: 55.20\n"
     ]
    }
   ],
   "source": [
    "units = int(input(\"Enter the number of units consumed: \"))\n",
    "\n",
    "if units <= 50:\n",
    "    charge = units * 0.50\n",
    "elif 50 < units <= 150:\n",
    "    charge = 25 + (units - 50) * 0.75\n",
    "elif 150 < units <= 250:\n",
    "    charge = 100 + (units - 150) * 1.20\n",
    "else:\n",
    "    charge = 220 + (units - 250) * 1.50\n",
    "\n",
    "total_bill = charge + 0.2 * charge\n",
    "\n",
    "print(f\"Electricity bill: {total_bill:.2f}\")\n"
   ]
  },
  {
   "cell_type": "code",
   "execution_count": 11,
   "id": "ce342e5d-3140-4f74-865c-b1055256e0a6",
   "metadata": {},
   "outputs": [
    {
     "name": "stdin",
     "output_type": "stream",
     "text": [
      "Enter the first angle:  78\n",
      "Enter the second angle:  89\n",
      "Enter the third angle:  09\n",
      "Enter the fourth angle:  88\n"
     ]
    },
    {
     "name": "stdout",
     "output_type": "stream",
     "text": [
      "The figure is a Quadrilateral\n"
     ]
    }
   ],
   "source": [
    "angle1 = float(input(\"Enter the first angle: \"))\n",
    "angle2 = float(input(\"Enter the second angle: \"))\n",
    "angle3 = float(input(\"Enter the third angle: \"))\n",
    "angle4 = float(input(\"Enter the fourth angle: \"))\n",
    "\n",
    "if angle1 == angle2 == angle3 == angle4 == 90:\n",
    "    quadrilateral_type = \"Rectangle\"\n",
    "elif angle1 == angle2 == angle3 == angle4:\n",
    "    quadrilateral_type = \"Rhombus\"\n",
    "else:\n",
    "    quadrilateral_type = \"Quadrilateral\"\n",
    "\n",
    "print(f\"The figure is a {quadrilateral_type}\")\n"
   ]
  },
  {
   "cell_type": "code",
   "execution_count": 13,
   "id": "1a2742ce-90f6-46ee-8c6f-5712a29973c6",
   "metadata": {},
   "outputs": [
    {
     "name": "stdin",
     "output_type": "stream",
     "text": [
      "Enter the month number (1-12):  1\n"
     ]
    },
    {
     "name": "stdout",
     "output_type": "stream",
     "text": [
      "The season is: Winter\n"
     ]
    }
   ],
   "source": [
    "month = int(input(\"Enter the month number (1-12): \"))\n",
    "\n",
    "if 3 <= month <= 5:\n",
    "    season = \"summer\"\n",
    "elif 6 <= month <= 8:\n",
    "    season = \"rainy\"\n",
    "elif 9 <= month <= 12:\n",
    "    season = \"winter\"\n",
    "else:\n",
    "    season = \"Winter\"\n",
    "\n",
    "print(f\"The season is: {season}\")\n"
   ]
  },
  {
   "cell_type": "code",
   "execution_count": 14,
   "id": "cd363098-983d-4f24-9ee5-03105131c522",
   "metadata": {},
   "outputs": [
    {
     "name": "stdin",
     "output_type": "stream",
     "text": [
      "Enter a year:  8\n",
      "Enter a month number (1-12):  7\n"
     ]
    },
    {
     "name": "stdout",
     "output_type": "stream",
     "text": [
      "The year is: Leap year\n",
      "The month has: 31 days\n"
     ]
    }
   ],
   "source": [
    "year = int(input(\"Enter a year: \"))\n",
    "month = int(input(\"Enter a month number (1-12): \"))\n",
    "\n",
    "if (year % 4 == 0 and year % 100 != 0) or (year % 400 == 0):\n",
    "    year_type = \"Leap year\"\n",
    "else:\n",
    "    year_type = \"Common year\"\n",
    "\n",
    "if month in [4, 6, 9, 11]:\n",
    "    days = 30\n",
    "elif month == 2:\n",
    "    days = 29 if year_type == \"Leap year\" else 28\n",
    "else:\n",
    "    days = 31\n",
    "\n",
    "print(f\"The year is: {year_type}\")\n",
    "print(f\"The month has: {days} days\")\n"
   ]
  },
  {
   "cell_type": "code",
   "execution_count": 3,
   "id": "412d5103-cf56-47c5-a2eb-348dc613f337",
   "metadata": {},
   "outputs": [
    {
     "name": "stdin",
     "output_type": "stream",
     "text": [
      "Enter coefficients a, b, c:  7 8 9\n"
     ]
    },
    {
     "name": "stdout",
     "output_type": "stream",
     "text": [
      "Roots: (-0.5714285714285714+0.9793792286287205j) and (-0.5714285714285714-0.9793792286287205j)\n"
     ]
    }
   ],
   "source": [
    "import cmath\n",
    "\n",
    "a, b, c = map(float, input(\"Enter coefficients a, b, c: \").split())\n",
    "discriminant = b**2 - 4*a*c\n",
    "root1 = (-b + cmath.sqrt(discriminant)) / (2*a)\n",
    "root2 = (-b - cmath.sqrt(discriminant)) / (2*a)\n",
    "print(f\"Roots: {root1} and {root2}\")\n"
   ]
  },
  {
   "cell_type": "code",
   "execution_count": 5,
   "id": "f941d7e1-fe0a-4693-bf7e-c731d640a8d3",
   "metadata": {},
   "outputs": [
    {
     "name": "stdin",
     "output_type": "stream",
     "text": [
      "Enter a number (1 for Monday, 2 for Tuesday, etc.):  7\n"
     ]
    },
    {
     "name": "stdout",
     "output_type": "stream",
     "text": [
      "Day of the week: Sunday\n"
     ]
    }
   ],
   "source": [
    "day_number = int(input(\"Enter a number (1 for Monday, 2 for Tuesday, etc.): \"))\n",
    "days = [\"Monday\", \"Tuesday\", \"Wednesday\", \"Thursday\", \"Friday\", \"Saturday\", \"Sunday\"]\n",
    "print(f\"Day of the week: {days[day_number - 1]}\")\n"
   ]
  },
  {
   "cell_type": "code",
   "execution_count": 6,
   "id": "cfac9439-23ea-485a-92e1-a2fe6337c1b9",
   "metadata": {},
   "outputs": [
    {
     "name": "stdin",
     "output_type": "stream",
     "text": [
      "Enter a number:  7\n"
     ]
    },
    {
     "name": "stdout",
     "output_type": "stream",
     "text": [
      "Factorial: 5040\n"
     ]
    }
   ],
   "source": [
    "fact = lambda n: 1 if n == 0 else n * fact(n-1)\n",
    "n = int(input(\"Enter a number: \"))\n",
    "print(f\"Factorial: {fact(n)}\")\n"
   ]
  },
  {
   "cell_type": "code",
   "execution_count": 7,
   "id": "027b35bc-bf74-4358-bf08-ff3abaaf1e53",
   "metadata": {},
   "outputs": [
    {
     "name": "stdin",
     "output_type": "stream",
     "text": [
      "Enter three numbers:  657\n"
     ]
    },
    {
     "name": "stdout",
     "output_type": "stream",
     "text": [
      "Largest: 657.0\n"
     ]
    }
   ],
   "source": [
    "numbers = list(map(float, input(\"Enter three numbers: \").split()))\n",
    "print(f\"Largest: {sorted(numbers)[-1]}\")\n"
   ]
  },
  {
   "cell_type": "code",
   "execution_count": 8,
   "id": "03b0b503-9fca-4031-aa37-25e50c31a27c",
   "metadata": {},
   "outputs": [
    {
     "name": "stdout",
     "output_type": "stream",
     "text": [
      "1. Check Balance\n",
      "2. Deposit\n",
      "3. Withdraw\n",
      "4. Quit\n"
     ]
    },
    {
     "name": "stdin",
     "output_type": "stream",
     "text": [
      "Enter your choice:  1\n"
     ]
    },
    {
     "name": "stdout",
     "output_type": "stream",
     "text": [
      "You selected option 1\n"
     ]
    }
   ],
   "source": [
    "print(\"1. Check Balance\\n2. Deposit\\n3. Withdraw\\n4. Quit\")\n",
    "choice = input(\"Enter your choice: \")\n",
    "print(f\"You selected option {choice}\")\n"
   ]
  },
  {
   "cell_type": "code",
   "execution_count": 9,
   "id": "a4fe5b3a-274e-42c1-90ac-2617a266eb46",
   "metadata": {},
   "outputs": [
    {
     "name": "stdin",
     "output_type": "stream",
     "text": [
      "Enter a string:  7\n"
     ]
    },
    {
     "name": "stdout",
     "output_type": "stream",
     "text": [
      "Palindrome\n"
     ]
    }
   ],
   "source": [
    "string = input(\"Enter a string: \")\n",
    "print(\"Palindrome\" if string == string[::-1] else \"Not a Palindrome\")\n"
   ]
  },
  {
   "cell_type": "code",
   "execution_count": 10,
   "id": "69e305b9-c9d7-4e96-8bdd-91d0020087dc",
   "metadata": {},
   "outputs": [
    {
     "name": "stdin",
     "output_type": "stream",
     "text": [
      "Enter numbers separated by space:  7\n"
     ]
    },
    {
     "name": "stdout",
     "output_type": "stream",
     "text": [
      "Average: 7.0\n"
     ]
    }
   ],
   "source": [
    "numbers = list(map(float, input(\"Enter numbers separated by space: \").split()))\n",
    "total = sum(numbers) - min(numbers) - max(numbers)\n",
    "average = total / (len(numbers) - 2)\n",
    "print(f\"Average: {average}\")\n"
   ]
  },
  {
   "cell_type": "code",
   "execution_count": 11,
   "id": "b2f3b038-14c1-4607-a021-df3eff891e7a",
   "metadata": {},
   "outputs": [
    {
     "name": "stdin",
     "output_type": "stream",
     "text": [
      "Enter temperature in Celsius:  78\n"
     ]
    },
    {
     "name": "stdout",
     "output_type": "stream",
     "text": [
      "Temperature in Fahrenheit: 172.4\n"
     ]
    }
   ],
   "source": [
    "celsius = float(input(\"Enter temperature in Celsius: \"))\n",
    "fahrenheit = (celsius * 9/5) + 32\n",
    "print(f\"Temperature in Fahrenheit: {fahrenheit}\")\n"
   ]
  },
  {
   "cell_type": "code",
   "execution_count": 17,
   "id": "85de8030-bd98-41cf-94a3-2caef2e2bc0f",
   "metadata": {},
   "outputs": [
    {
     "name": "stdin",
     "output_type": "stream",
     "text": [
      "Enter calculation (e.g. 2 + 3):  7 7\n"
     ]
    },
    {
     "ename": "ValueError",
     "evalue": "not enough values to unpack (expected 3, got 2)",
     "output_type": "error",
     "traceback": [
      "\u001b[0;31m---------------------------------------------------------------------------\u001b[0m",
      "\u001b[0;31mValueError\u001b[0m                                Traceback (most recent call last)",
      "Cell \u001b[0;32mIn[17], line 1\u001b[0m\n\u001b[0;32m----> 1\u001b[0m num1, op, num2 \u001b[38;5;241m=\u001b[39m \u001b[38;5;28minput\u001b[39m(\u001b[38;5;124m\"\u001b[39m\u001b[38;5;124mEnter calculation (e.g. 2 + 3): \u001b[39m\u001b[38;5;124m\"\u001b[39m)\u001b[38;5;241m.\u001b[39msplit()\n\u001b[1;32m      2\u001b[0m result \u001b[38;5;241m=\u001b[39m \u001b[38;5;28meval\u001b[39m(\u001b[38;5;124mf\u001b[39m\u001b[38;5;124m\"\u001b[39m\u001b[38;5;132;01m{\u001b[39;00mnum1\u001b[38;5;132;01m}\u001b[39;00m\u001b[38;5;124m \u001b[39m\u001b[38;5;132;01m{\u001b[39;00mop\u001b[38;5;132;01m}\u001b[39;00m\u001b[38;5;124m \u001b[39m\u001b[38;5;132;01m{\u001b[39;00mnum2\u001b[38;5;132;01m}\u001b[39;00m\u001b[38;5;124m\"\u001b[39m)\n\u001b[1;32m      3\u001b[0m \u001b[38;5;28mprint\u001b[39m(\u001b[38;5;124mf\u001b[39m\u001b[38;5;124m\"\u001b[39m\u001b[38;5;124mResult: \u001b[39m\u001b[38;5;132;01m{\u001b[39;00mresult\u001b[38;5;132;01m}\u001b[39;00m\u001b[38;5;124m\"\u001b[39m)\n",
      "\u001b[0;31mValueError\u001b[0m: not enough values to unpack (expected 3, got 2)"
     ]
    }
   ],
   "source": [
    "num1, op, num2 = input(\"Enter calculation (e.g. 2 + 3): \").split()\n",
    "result = eval(f\"{num1} {op} {num2}\")\n",
    "print(f\"Result: {result}\")\n"
   ]
  },
  {
   "cell_type": "code",
   "execution_count": 19,
   "id": "fafb1970-8b53-456b-a35c-94a6a68e0f92",
   "metadata": {},
   "outputs": [
    {
     "name": "stdin",
     "output_type": "stream",
     "text": [
      "Enter coefficients a, b, c, d:  5 6 7 8\n"
     ]
    },
    {
     "name": "stdout",
     "output_type": "stream",
     "text": [
      "Roots: (-0.4106666666666666-7.066540879383632j), (-0.4106666666666666+7.066540879383632j)\n"
     ]
    }
   ],
   "source": [
    "a, b, c, d = map(float, input(\"Enter coefficients a, b, c, d: \").split())\n",
    "discriminant = (18*a*b*c*d - 4*b**3*d + b**2*c**2 - 4*a*c**3 - 27*a**2*d**2)\n",
    "root = ((b**2 - 3*a*c) / (9*a**2) + (2*b**3 - 9*a*b*c + 27*a**2*d) / (54*a**3))\n",
    "complex_term = cmath.sqrt(discriminant) / (2*abs(a)**(3/2))\n",
    "root1 = -1/3 * b/(3*a) - root - complex_term\n",
    "root2 = -1/3 * b/(3*a) - root + complex_term\n",
    "print(f\"Roots: {root1}, {root2}\")\n"
   ]
  },
  {
   "cell_type": "code",
   "execution_count": 1,
   "id": "d5e949b9-9e33-4350-bb04-a79be27539d3",
   "metadata": {},
   "outputs": [
    {
     "name": "stdin",
     "output_type": "stream",
     "text": [
      "Enter your income:  7000\n"
     ]
    },
    {
     "name": "stdout",
     "output_type": "stream",
     "text": [
      "Income Tax: 700.00\n"
     ]
    }
   ],
   "source": [
    "income = float(input(\"Enter your income: \"))\n",
    "tax_brackets = [(0, 10000, 0.10), (10000, 30000, 0.20), (30000, 70000, 0.30), (70000, float('inf'), 0.40)]\n",
    "\n",
    "for bracket in tax_brackets:\n",
    "    if income > bracket[0]:\n",
    "        taxable = min(income, bracket[1]) - bracket[0]\n",
    "        tax = taxable * bracket[2]\n",
    "        break\n",
    "\n",
    "print(f\"Income Tax: {tax:.2f}\")\n"
   ]
  },
  {
   "cell_type": "code",
   "execution_count": 2,
   "id": "57ee53f2-3088-4983-b41d-ba59c7b4ae5e",
   "metadata": {},
   "outputs": [
    {
     "name": "stdin",
     "output_type": "stream",
     "text": [
      "Enter your choice (rock/paper/scissors):  42\n"
     ]
    },
    {
     "name": "stdout",
     "output_type": "stream",
     "text": [
      "Computer's choice: rock\n",
      "You lose!\n"
     ]
    }
   ],
   "source": [
    "import random\n",
    "\n",
    "choices = [\"rock\", \"paper\", \"scissors\"]\n",
    "user_choice = input(\"Enter your choice (rock/paper/scissors): \")\n",
    "computer_choice = random.choice(choices)\n",
    "print(f\"Computer's choice: {computer_choice}\")\n",
    "\n",
    "if user_choice == computer_choice:\n",
    "    result = \"It's a tie!\"\n",
    "elif (user_choice == \"rock\" and computer_choice == \"scissors\") or \\\n",
    "     (user_choice == \"paper\" and computer_choice == \"rock\") or \\\n",
    "     (user_choice == \"scissors\" and computer_choice == \"paper\"):\n",
    "    result = \"You win!\"\n",
    "else:\n",
    "    result = \"You lose!\"\n",
    "\n",
    "print(result)\n"
   ]
  },
  {
   "cell_type": "code",
   "execution_count": 4,
   "id": "bec334bb-6478-4811-9bcf-499a9aefffb8",
   "metadata": {},
   "outputs": [
    {
     "name": "stdin",
     "output_type": "stream",
     "text": [
      "Enter password length:  7\n",
      "Enter complexity (low/medium/high):  low\n"
     ]
    },
    {
     "name": "stdout",
     "output_type": "stream",
     "text": [
      "Generated Password: t0AFh5E\n"
     ]
    }
   ],
   "source": [
    "import random\n",
    "import string\n",
    "\n",
    "length = int(input(\"Enter password length: \"))\n",
    "complexity = input(\"Enter complexity (low/medium/high): \")\n",
    "\n",
    "if complexity == \"low\":\n",
    "    characters = string.ascii_letters + string.digits\n",
    "elif complexity == \"medium\":\n",
    "    characters = string.ascii_letters + string.digits + string.punctuation\n",
    "elif complexity == \"high\":\n",
    "    characters = string.printable\n",
    "\n",
    "password = ''.join(random.choice(characters) for _ in range(length))\n",
    "print(f\"Generated Password: {password}\")\n"
   ]
  },
  {
   "cell_type": "code",
   "execution_count": 5,
   "id": "4a4c65e7-b92b-4f9c-bd0d-64b23f2f627d",
   "metadata": {},
   "outputs": [
    {
     "name": "stdout",
     "output_type": "stream",
     "text": [
      "You find yourself in a forest. Do you go left or right?\n"
     ]
    },
    {
     "name": "stdin",
     "output_type": "stream",
     "text": [
      "Type 'left' or 'right':  left\n"
     ]
    },
    {
     "name": "stdout",
     "output_type": "stream",
     "text": [
      "You encounter a river. Do you swim across or go around?\n"
     ]
    },
    {
     "name": "stdin",
     "output_type": "stream",
     "text": [
      "Type 'swim' or 'go around':  go\n"
     ]
    },
    {
     "name": "stdout",
     "output_type": "stream",
     "text": [
      "You took a longer route but stayed dry.\n"
     ]
    }
   ],
   "source": [
    "print(\"You find yourself in a forest. Do you go left or right?\")\n",
    "choice = input(\"Type 'left' or 'right': \").lower()\n",
    "\n",
    "if choice == \"left\":\n",
    "    print(\"You encounter a river. Do you swim across or go around?\")\n",
    "    choice = input(\"Type 'swim' or 'go around': \").lower()\n",
    "    if choice == \"swim\":\n",
    "        print(\"You made it across but got wet.\")\n",
    "    else:\n",
    "        print(\"You took a longer route but stayed dry.\")\n",
    "else:\n",
    "    print(\"You find a cave with a treasure chest.\")\n"
   ]
  },
  {
   "cell_type": "code",
   "execution_count": 7,
   "id": "4ab0ef4b-e9ef-413a-8f22-20b66ff524d7",
   "metadata": {},
   "outputs": [
    {
     "name": "stdin",
     "output_type": "stream",
     "text": [
      "Enter coefficients a and b (ax + b = 0):  4 7\n"
     ]
    },
    {
     "name": "stdout",
     "output_type": "stream",
     "text": [
      "x = -1.75\n"
     ]
    }
   ],
   "source": [
    "a, b = map(float, input(\"Enter coefficients a and b (ax + b = 0): \").split())\n",
    "\n",
    "if a == 0 and b == 0:\n",
    "    result = \"Infinite solutions\"\n",
    "elif a == 0 and b != 0:\n",
    "    result = \"No solution\"\n",
    "else:\n",
    "    result = -b / a\n",
    "\n",
    "print(f\"x = {result}\")\n"
   ]
  },
  {
   "cell_type": "code",
   "execution_count": 8,
   "id": "4b343aec-22ae-4797-ba96-acc0eb2b6560",
   "metadata": {},
   "outputs": [
    {
     "name": "stdin",
     "output_type": "stream",
     "text": [
      "What is the capital of France?  india\n",
      "What is 2 + 2?  4\n",
      "What is the largest mammal?  7\n"
     ]
    },
    {
     "name": "stdout",
     "output_type": "stream",
     "text": [
      "Your score is: 1/3\n"
     ]
    }
   ],
   "source": [
    "questions = {\n",
    "    \"What is the capital of France?\": \"Paris\",\n",
    "    \"What is 2 + 2?\": \"4\",\n",
    "    \"What is the largest mammal?\": \"Blue whale\"\n",
    "}\n",
    "\n",
    "score = 0\n",
    "for question, answer in questions.items():\n",
    "    user_answer = input(question + \" \")\n",
    "    if user_answer.lower() == answer.lower():\n",
    "        score += 1\n",
    "\n",
    "print(f\"Your score is: {score}/{len(questions)}\")\n"
   ]
  },
  {
   "cell_type": "code",
   "execution_count": 9,
   "id": "649bc750-9ec4-46ee-a8ec-276c68877138",
   "metadata": {},
   "outputs": [
    {
     "name": "stdin",
     "output_type": "stream",
     "text": [
      "Enter a year:  7\n"
     ]
    },
    {
     "name": "stdout",
     "output_type": "stream",
     "text": [
      "7 is a prime number\n"
     ]
    }
   ],
   "source": [
    "year = int(input(\"Enter a year: \"))\n",
    "\n",
    "if year > 1:\n",
    "    for i in range(2, int(year/2)+1):\n",
    "        if (year % i) == 0:\n",
    "            print(f\"{year} is not a prime number\")\n",
    "            break\n",
    "    else:\n",
    "        print(f\"{year} is a prime number\")\n",
    "else:\n",
    "    print(f\"{year} is not a prime number\")\n"
   ]
  },
  {
   "cell_type": "code",
   "execution_count": 11,
   "id": "8caefcaf-383e-4689-8159-e2b2d1398fa4",
   "metadata": {},
   "outputs": [
    {
     "name": "stdin",
     "output_type": "stream",
     "text": [
      "Enter weight in kg and height in meters (e.g. 70 1.75):  89 1.90\n"
     ]
    },
    {
     "name": "stdout",
     "output_type": "stream",
     "text": [
      "BMI: 24.65\n",
      "Category: Normal\n",
      "You are in a healthy weight range.\n"
     ]
    }
   ],
   "source": [
    "weight, height = map(float, input(\"Enter weight in kg and height in meters (e.g. 70 1.75): \").split())\n",
    "bmi = weight / (height ** 2)\n",
    "\n",
    "if 18.5 <= bmi < 24.9:\n",
    "    category = \"Normal\"\n",
    "    recommendation = \"You are in a healthy weight range.\"\n",
    "elif 25 <= bmi < 29.9:\n",
    "    category = \"Overweight\"\n",
    "    recommendation = \"Consider losing weight for better health.\"\n",
    "else:\n",
    "    category = \"Obese\"\n",
    "    recommendation = \"It's important to consult a doctor for personalized advice.\"\n",
    "\n",
    "print(f\"BMI: {bmi:.2f}\")\n",
    "print(f\"Category: {category}\")\n",
    "print(recommendation)\n"
   ]
  },
  {
   "cell_type": "code",
   "execution_count": 12,
   "id": "ddef403d-f634-4012-aa1b-4a5a826b9664",
   "metadata": {},
   "outputs": [
    {
     "name": "stdin",
     "output_type": "stream",
     "text": [
      "Enter a password:  78\n"
     ]
    },
    {
     "name": "stdout",
     "output_type": "stream",
     "text": [
      "Invalid password\n"
     ]
    }
   ],
   "source": [
    "import re\n",
    "\n",
    "password = input(\"Enter a password: \")\n",
    "\n",
    "if len(password) >= 8 and re.search(r'[A-Z]', password) and re.search(r'[a-z]', password) and re.search(r'[0-9]', password) and re.search(r'[!@#$%^&*(),.?\":{}|<>]', password):\n",
    "    print(\"Valid password\")\n",
    "else:\n",
    "    print(\"Invalid password\")\n"
   ]
  },
  {
   "cell_type": "code",
   "execution_count": 15,
   "id": "3d1db296-0602-4162-b57b-6eb4a9a7f739",
   "metadata": {},
   "outputs": [
    {
     "name": "stdin",
     "output_type": "stream",
     "text": [
      "Enter dimensions (m n):  1 2\n",
      " 5\n",
      " 8\n"
     ]
    },
    {
     "name": "stdout",
     "output_type": "stream",
     "text": [
      "Matrix Addition:\n",
      "[[13]]\n",
      "\n",
      "Matrix Subtraction:\n",
      "[[-3]]\n"
     ]
    }
   ],
   "source": [
    "import numpy as np\n",
    "\n",
    "# Get matrix dimensions\n",
    "m, n = map(int, input(\"Enter dimensions (m n): \").split())\n",
    "\n",
    "# Get matrices\n",
    "matrix1 = np.array([list(map(int, input().split())) for _ in range(m)])\n",
    "matrix2 = np.array([list(map(int, input().split())) for _ in range(m)])\n",
    "\n",
    "# Perform addition and subtraction\n",
    "addition_result = matrix1 + matrix2\n",
    "subtraction_result = matrix1 - matrix2\n",
    "\n",
    "print(\"Matrix Addition:\")\n",
    "print(addition_result)\n",
    "print(\"\\nMatrix Subtraction:\")\n",
    "print(subtraction_result)\n"
   ]
  },
  {
   "cell_type": "code",
   "execution_count": 17,
   "id": "f79147c1-7916-45db-8dad-617d5e00c696",
   "metadata": {},
   "outputs": [
    {
     "name": "stdin",
     "output_type": "stream",
     "text": [
      "Enter two numbers:   7 8\n"
     ]
    },
    {
     "name": "stdout",
     "output_type": "stream",
     "text": [
      "GCD: 1\n"
     ]
    }
   ],
   "source": [
    "def gcd(a, b):\n",
    "    while b:\n",
    "        a, b = b, a % b\n",
    "    return a\n",
    "\n",
    "num1, num2 = map(int, input(\"Enter two numbers: \").split())\n",
    "result = gcd(num1, num2)\n",
    "print(f\"GCD: {result}\")\n"
   ]
  },
  {
   "cell_type": "code",
   "execution_count": 19,
   "id": "ea61000d-6106-4c7a-a703-364f3f0c1868",
   "metadata": {},
   "outputs": [
    {
     "name": "stdout",
     "output_type": "stream",
     "text": [
      "  |   |  \n",
      "--|---|--\n",
      "  |   |  \n",
      "--|---|--\n",
      "  |   |  \n"
     ]
    },
    {
     "name": "stdin",
     "output_type": "stream",
     "text": [
      "Enter your move (1-9):  1\n"
     ]
    },
    {
     "name": "stdout",
     "output_type": "stream",
     "text": [
      "X |   |  \n",
      "--|---|--\n",
      "  |   |  \n",
      "--|---|--\n",
      "  |   |  \n",
      "X |   | O\n",
      "--|---|--\n",
      "  |   |  \n",
      "--|---|--\n",
      "  |   |  \n"
     ]
    },
    {
     "name": "stdin",
     "output_type": "stream",
     "text": [
      "Enter your move (1-9):  2\n"
     ]
    },
    {
     "name": "stdout",
     "output_type": "stream",
     "text": [
      "X | X | O\n",
      "--|---|--\n",
      "  |   |  \n",
      "--|---|--\n",
      "  |   |  \n",
      "X | X | O\n",
      "--|---|--\n",
      "  |   |  \n",
      "--|---|--\n",
      "  |   | O\n"
     ]
    },
    {
     "name": "stdin",
     "output_type": "stream",
     "text": [
      "Enter your move (1-9):  5\n"
     ]
    },
    {
     "name": "stdout",
     "output_type": "stream",
     "text": [
      "X | X | O\n",
      "--|---|--\n",
      "  | X |  \n",
      "--|---|--\n",
      "  |   | O\n",
      "X | X | O\n",
      "--|---|--\n",
      "O | X |  \n",
      "--|---|--\n",
      "  |   | O\n"
     ]
    },
    {
     "name": "stdin",
     "output_type": "stream",
     "text": [
      "Enter your move (1-9):  6\n"
     ]
    },
    {
     "name": "stdout",
     "output_type": "stream",
     "text": [
      "X | X | O\n",
      "--|---|--\n",
      "O | X | X\n",
      "--|---|--\n",
      "  |   | O\n",
      "X | X | O\n",
      "--|---|--\n",
      "O | X | X\n",
      "--|---|--\n",
      "O |   | O\n"
     ]
    },
    {
     "name": "stdin",
     "output_type": "stream",
     "text": [
      "Enter your move (1-9):  7\n"
     ]
    },
    {
     "name": "stdout",
     "output_type": "stream",
     "text": [
      "Invalid move. Try again.\n"
     ]
    },
    {
     "name": "stdin",
     "output_type": "stream",
     "text": [
      "Enter your move (1-9):  9\n"
     ]
    },
    {
     "name": "stdout",
     "output_type": "stream",
     "text": [
      "Invalid move. Try again.\n"
     ]
    },
    {
     "name": "stdin",
     "output_type": "stream",
     "text": [
      "Enter your move (1-9):  3\n"
     ]
    },
    {
     "name": "stdout",
     "output_type": "stream",
     "text": [
      "Invalid move. Try again.\n"
     ]
    },
    {
     "name": "stdin",
     "output_type": "stream",
     "text": [
      "Enter your move (1-9):  8\n"
     ]
    },
    {
     "name": "stdout",
     "output_type": "stream",
     "text": [
      "X | X | O\n",
      "--|---|--\n",
      "O | X | X\n",
      "--|---|--\n",
      "O | X | O\n",
      "X wins!\n"
     ]
    }
   ],
   "source": [
    "import random\n",
    "\n",
    "board = [' ' for _ in range(9)]\n",
    "\n",
    "def print_board(board):\n",
    "    print(f\"{board[0]} | {board[1]} | {board[2]}\")\n",
    "    print(\"--|---|--\")\n",
    "    print(f\"{board[3]} | {board[4]} | {board[5]}\")\n",
    "    print(\"--|---|--\")\n",
    "    print(f\"{board[6]} | {board[7]} | {board[8]}\")\n",
    "\n",
    "def check_winner(board, player):\n",
    "    winning_combinations = [(0, 1, 2), (3, 4, 5), (6, 7, 8),\n",
    "                            (0, 3, 6), (1, 4, 7), (2, 5, 8),\n",
    "                            (0, 4, 8), (2, 4, 6)]\n",
    "    for combination in winning_combinations:\n",
    "        if board[combination[0]] == board[combination[1]] == board[combination[2]] == player:\n",
    "            return True\n",
    "    return False\n",
    "\n",
    "def is_board_full(board):\n",
    "    return ' ' not in board\n",
    "\n",
    "def player_move(board):\n",
    "    while True:\n",
    "        move = int(input(\"Enter your move (1-9): \")) - 1\n",
    "        if board[move] == ' ':\n",
    "            return move\n",
    "        else:\n",
    "            print(\"Invalid move. Try again.\")\n",
    "\n",
    "def computer_move(board):\n",
    "    empty_indices = [i for i, x in enumerate(board) if x == ' ']\n",
    "    return random.choice(empty_indices)\n",
    "\n",
    "turn = random.choice(['X', 'O'])\n",
    "\n",
    "while True:\n",
    "    print_board(board)\n",
    "    if turn == 'X':\n",
    "        move = player_move(board)\n",
    "        board[move] = 'X'\n",
    "    else:\n",
    "        move = computer_move(board)\n",
    "        board[move] = 'O'\n",
    "    \n",
    "    if check_winner(board, turn):\n",
    "        print_board(board)\n",
    "        print(f\"{turn} wins!\")\n",
    "        break\n",
    "    elif is_board_full(board):\n",
    "        print_board(board)\n",
    "        print(\"It's a draw!\")\n",
    "        break\n",
    "    \n",
    "    turn = 'O' if turn == 'X' else 'X'\n"
   ]
  },
  {
   "cell_type": "code",
   "execution_count": 20,
   "id": "638b624a-4908-497f-9656-55b1c965f05c",
   "metadata": {},
   "outputs": [
    {
     "name": "stdin",
     "output_type": "stream",
     "text": [
      "Enter the number of Fibonacci terms:  7\n"
     ]
    },
    {
     "name": "stdout",
     "output_type": "stream",
     "text": [
      "Fibonacci sequence up to term 7: [0, 1, 1, 2, 3, 5, 8]\n"
     ]
    }
   ],
   "source": [
    "def generate_fibonacci(n):\n",
    "    fib_sequence = [0, 1]\n",
    "    while len(fib_sequence) < n:\n",
    "        fib_sequence.append(fib_sequence[-1] + fib_sequence[-2])\n",
    "    return fib_sequence\n",
    "\n",
    "n = int(input(\"Enter the number of Fibonacci terms: \"))\n",
    "fibonacci_sequence = generate_fibonacci(n)\n",
    "print(f\"Fibonacci sequence up to term {n}: {fibonacci_sequence}\")\n"
   ]
  },
  {
   "cell_type": "code",
   "execution_count": null,
   "id": "bc31b500-01a4-41fd-b880-e70a4f2aeb24",
   "metadata": {},
   "outputs": [],
   "source": [
    "memo = {0: 0, 1: 1}\n",
    "\n",
    "def fibonacci(n):\n",
    "    if n not in memo:\n",
    "        memo[n] = fibonacci(n-1) + fibonacci(n-2)\n",
    "    return memo[n]\n",
    "\n",
    "n = int(input(\"Enter the term of the Fibonacci sequence: \"))\n",
    "result = fibonacci(n)\n",
    "print(f\"The {n}th term of the Fibonacci sequence is: {result}\")\n"
   ]
  }
 ],
 "metadata": {
  "kernelspec": {
   "display_name": "Python 3 (ipykernel)",
   "language": "python",
   "name": "python3"
  },
  "language_info": {
   "codemirror_mode": {
    "name": "ipython",
    "version": 3
   },
   "file_extension": ".py",
   "mimetype": "text/x-python",
   "name": "python",
   "nbconvert_exporter": "python",
   "pygments_lexer": "ipython3",
   "version": "3.10.8"
  }
 },
 "nbformat": 4,
 "nbformat_minor": 5
}
